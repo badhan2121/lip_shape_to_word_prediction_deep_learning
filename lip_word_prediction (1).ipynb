{
 "cells": [
  {
   "cell_type": "code",
   "execution_count": 1,
   "id": "1634449e",
   "metadata": {},
   "outputs": [],
   "source": [
    "#!pip install opencv-python matplotlib imageio gdown tensorflow"
   ]
  },
  {
   "cell_type": "code",
   "execution_count": 2,
   "id": "dd56e95c",
   "metadata": {},
   "outputs": [],
   "source": [
    "import os\n",
    "import cv2\n",
    "import tensorflow as tf\n",
    "import numpy as np\n",
    "from typing import List\n",
    "from matplotlib import pyplot as plt\n",
    "import imageio"
   ]
  },
  {
   "cell_type": "code",
   "execution_count": 3,
   "id": "bcdce91f",
   "metadata": {},
   "outputs": [
    {
     "data": {
      "text/plain": [
       "[PhysicalDevice(name='/physical_device:CPU:0', device_type='CPU')]"
      ]
     },
     "execution_count": 3,
     "metadata": {},
     "output_type": "execute_result"
    }
   ],
   "source": [
    "tf.config.list_physical_devices('CPU')"
   ]
  },
  {
   "cell_type": "code",
   "execution_count": 6,
   "id": "6b1e30db",
   "metadata": {},
   "outputs": [],
   "source": [
    "physical_devices = tf.config.list_physical_devices('CPU')\n",
    "try:\n",
    "     tf.config.experimental.set_memory_growth(physical_devices[0], True)\n",
    "except:\n",
    "    pass"
   ]
  },
  {
   "cell_type": "code",
   "execution_count": 7,
   "id": "752f724d",
   "metadata": {},
   "outputs": [],
   "source": [
    "import gdown"
   ]
  },
  {
   "cell_type": "code",
   "execution_count": 8,
   "id": "1fdad29d",
   "metadata": {},
   "outputs": [],
   "source": [
    "# url = 'https://drive.google.com/uc?id=1YlvpDLix3S-U8fd-gqRwPcWXAXm8JwjL'\n",
    "# output = 'data.zip'\n",
    "# gdown.download(url, output, quiet=False)\n",
    "# gdown.extractall('data.zip')"
   ]
  },
  {
   "cell_type": "code",
   "execution_count": 9,
   "id": "061442ca",
   "metadata": {},
   "outputs": [],
   "source": [
    "vocab = [x for x in \"abcdefghijklmnopqrstuvwxyz'?!123456789 \"]"
   ]
  },
  {
   "cell_type": "code",
   "execution_count": 10,
   "id": "bf374628",
   "metadata": {},
   "outputs": [
    {
     "name": "stdout",
     "output_type": "stream",
     "text": [
      "The vocabulary is: ['', 'a', 'b', 'c', 'd', 'e', 'f', 'g', 'h', 'i', 'j', 'k', 'l', 'm', 'n', 'o', 'p', 'q', 'r', 's', 't', 'u', 'v', 'w', 'x', 'y', 'z', \"'\", '?', '!', '1', '2', '3', '4', '5', '6', '7', '8', '9', ' '] (size =40)\n"
     ]
    }
   ],
   "source": [
    "char_to_num = tf.keras.layers.StringLookup(vocabulary=vocab, oov_token=\"\")\n",
    "num_to_char = tf.keras.layers.StringLookup(\n",
    "    vocabulary=char_to_num.get_vocabulary(), oov_token=\"\", invert=True\n",
    ")\n",
    "\n",
    "print(\n",
    "    f\"The vocabulary is: {char_to_num.get_vocabulary()} \"\n",
    "    f\"(size ={char_to_num.vocabulary_size()})\"\n",
    ")"
   ]
  },
  {
   "cell_type": "code",
   "execution_count": null,
   "id": "e6aac426",
   "metadata": {},
   "outputs": [],
   "source": [
    "char_to_num(['n','i','c','k'])"
   ]
  },
  {
   "cell_type": "code",
   "execution_count": null,
   "id": "3b98088b",
   "metadata": {},
   "outputs": [],
   "source": [
    "num_to_char([14,  9,  3, 11])"
   ]
  },
  {
   "cell_type": "code",
   "execution_count": 11,
   "id": "40a44108",
   "metadata": {},
   "outputs": [],
   "source": [
    "def load_video(path:str) -> List[float]: \n",
    "\n",
    "    cap = cv2.VideoCapture(path)\n",
    "    frames = []\n",
    "    for _ in range(int(cap.get(cv2.CAP_PROP_FRAME_COUNT))): \n",
    "        ret, frame = cap.read()\n",
    "        frame = tf.image.rgb_to_grayscale(frame)\n",
    "        frames.append(frame[190:236,80:220,:])\n",
    "    cap.release()\n",
    "    \n",
    "    mean = tf.math.reduce_mean(frames)\n",
    "    std = tf.math.reduce_std(tf.cast(frames, tf.float32))\n",
    "    return tf.cast((frames - mean), tf.float32) / std"
   ]
  },
  {
   "cell_type": "code",
   "execution_count": 12,
   "id": "e934b903",
   "metadata": {},
   "outputs": [],
   "source": [
    "def load_alignments(path:str) -> List[str]: \n",
    "    with open(path, 'r') as f: \n",
    "        lines = f.readlines() \n",
    "    tokens = []\n",
    "    for line in lines:\n",
    "        line = line.split()\n",
    "        if line[2] != 'sil': \n",
    "            tokens = [*tokens,' ',line[2]]\n",
    "    return char_to_num(tf.reshape(tf.strings.unicode_split(tokens, input_encoding='UTF-8'), (-1)))[1:]\n"
   ]
  },
  {
   "cell_type": "code",
   "execution_count": 13,
   "id": "2f26b14d",
   "metadata": {},
   "outputs": [],
   "source": [
    "def load_data(path: str): \n",
    "    path = bytes.decode(path.numpy())\n",
    "    #file_name = path.split('/')[-1].split('.')[0]\n",
    "    # File name splitting for windows\n",
    "    file_name = path.split('\\\\')[-1].split('.')[0]\n",
    "    video_path = os.path.join('data','s1',f'{file_name}.mpg')\n",
    "    alignment_path = os.path.join('data','alignments','s1',f'{file_name}.align')\n",
    "    frames = load_video(video_path) \n",
    "    alignments = load_alignments(alignment_path)\n",
    "    \n",
    "    return frames, alignments"
   ]
  },
  {
   "cell_type": "code",
   "execution_count": 14,
   "id": "7912e725",
   "metadata": {},
   "outputs": [
    {
     "ename": "NameError",
     "evalue": "name 'test_path' is not defined",
     "output_type": "error",
     "traceback": [
      "\u001b[1;31m---------------------------------------------------------------------------\u001b[0m",
      "\u001b[1;31mNameError\u001b[0m                                 Traceback (most recent call last)",
      "Cell \u001b[1;32mIn[14], line 1\u001b[0m\n\u001b[1;32m----> 1\u001b[0m tf\u001b[38;5;241m.\u001b[39mconvert_to_tensor(test_path)\u001b[38;5;241m.\u001b[39mnumpy()\u001b[38;5;241m.\u001b[39mdecode(\u001b[38;5;124m'\u001b[39m\u001b[38;5;124mutf-8\u001b[39m\u001b[38;5;124m'\u001b[39m)\u001b[38;5;241m.\u001b[39msplit(\u001b[38;5;124m'\u001b[39m\u001b[38;5;130;01m\\\\\u001b[39;00m\u001b[38;5;124m'\u001b[39m)[\u001b[38;5;241m-\u001b[39m\u001b[38;5;241m1\u001b[39m]\u001b[38;5;241m.\u001b[39msplit(\u001b[38;5;124m'\u001b[39m\u001b[38;5;124m.\u001b[39m\u001b[38;5;124m'\u001b[39m)[\u001b[38;5;241m0\u001b[39m]\n",
      "\u001b[1;31mNameError\u001b[0m: name 'test_path' is not defined"
     ]
    }
   ],
   "source": [
    "tf.convert_to_tensor(test_path).numpy().decode('utf-8').split('\\\\')[-1].split('.')[0]"
   ]
  },
  {
   "cell_type": "code",
   "execution_count": 15,
   "id": "cb2d67c6",
   "metadata": {},
   "outputs": [],
   "source": [
    "path='data\\\\alignments\\\\s1\\\\bbaf2n.align'"
   ]
  },
  {
   "cell_type": "code",
   "execution_count": 16,
   "id": "9ebfe173",
   "metadata": {},
   "outputs": [
    {
     "name": "stdout",
     "output_type": "stream",
     "text": [
      "['0', '23750', 'sil']\n",
      "['23750', '29500', 'bin']\n",
      "['29500', '34000', 'blue']\n",
      "['34000', '35500', 'at']\n",
      "['35500', '41000', 'f']\n",
      "['41000', '47250', 'two']\n",
      "['47250', '53000', 'now']\n",
      "['53000', '74500', 'sil']\n",
      "[' ', 'bin', ' ', 'blue', ' ', 'at', ' ', 'f', ' ', 'two', ' ', 'now']\n",
      "<tf.RaggedTensor [[b' '], [b'b', b'i', b'n'], [b' '], [b'b', b'l', b'u', b'e'], [b' '],\n",
      " [b'a', b't'], [b' '], [b'f'], [b' '], [b't', b'w', b'o'], [b' '],\n",
      " [b'n', b'o', b'w']]>\n",
      "tf.Tensor(\n",
      "[b' ' b'b' b'i' b'n' b' ' b'b' b'l' b'u' b'e' b' ' b'a' b't' b' ' b'f'\n",
      " b' ' b't' b'w' b'o' b' ' b'n' b'o' b'w'], shape=(22,), dtype=string)\n",
      "tf.Tensor([ 2  9 14 39  2 12 21  5 39  1 20 39  6 39 20 23 15 39 14 15 23], shape=(21,), dtype=int64)\n"
     ]
    }
   ],
   "source": [
    "with open(path, 'r') as f: \n",
    "    lines = f.readlines()\n",
    "    tokens = []\n",
    "    for line in lines:\n",
    "        line =line.split()\n",
    "        print(line)\n",
    "        if line[2] != 'sil': \n",
    "            tokens = [*tokens,' ',line[2]]\n",
    "    print(tokens)\n",
    "    print(tf.strings.unicode_split(tokens, input_encoding='UTF-8'))\n",
    "    print(tf.reshape(tf.strings.unicode_split(tokens, input_encoding='UTF-8'), (-1)))\n",
    "    print(char_to_num(tf.reshape(tf.strings.unicode_split(tokens, input_encoding='UTF-8'), (-1)))[1:])"
   ]
  },
  {
   "cell_type": "code",
   "execution_count": null,
   "id": "21561fed",
   "metadata": {},
   "outputs": [],
   "source": [
    "path='data\\\\s1\\\\'\n",
    "file_name = path.split('\\\\')[-1]\n",
    "path"
   ]
  },
  {
   "cell_type": "code",
   "execution_count": 17,
   "id": "cf2e08cd",
   "metadata": {},
   "outputs": [
    {
     "data": {
      "text/plain": [
       "True"
      ]
     },
     "execution_count": 17,
     "metadata": {},
     "output_type": "execute_result"
    }
   ],
   "source": [
    "os.path.exists(path)"
   ]
  },
  {
   "cell_type": "code",
   "execution_count": null,
   "id": "abac039a",
   "metadata": {},
   "outputs": [],
   "source": [
    "a=['hello']\n",
    "b=[]\n",
    "b=[*a]      \n",
    "print(b)        "
   ]
  },
  {
   "cell_type": "code",
   "execution_count": null,
   "id": "cb653d96",
   "metadata": {},
   "outputs": [],
   "source": [
    "tf.reshape(tf.strings.unicode_split(tokens, input_encoding='UTF-8'), (-1))"
   ]
  },
  {
   "cell_type": "code",
   "execution_count": 18,
   "id": "b642a775",
   "metadata": {},
   "outputs": [
    {
     "name": "stdout",
     "output_type": "stream",
     "text": [
      "tf.Tensor([b'H' b'e' b'l' b'l' b'o' b',' b' ' b'w' b'o' b'r' b'l' b'd' b'!'], shape=(13,), dtype=string)\n"
     ]
    }
   ],
   "source": [
    "import tensorflow as tf\n",
    "\n",
    "# Split a string into a sequence of Unicode code points\n",
    "string = \"Hello, world!\"\n",
    "unicode_code_points = tf.strings.unicode_split(string, input_encoding='UTF-8')\n",
    "\n",
    "# Print the Unicode code points\n",
    "print(unicode_code_points)"
   ]
  },
  {
   "cell_type": "code",
   "execution_count": 19,
   "id": "ff9039a6",
   "metadata": {},
   "outputs": [],
   "source": [
    "test_path = '.\\\\data\\\\s1\\\\bbal6n.mpg'"
   ]
  },
  {
   "cell_type": "code",
   "execution_count": 20,
   "id": "e00da9be",
   "metadata": {},
   "outputs": [
    {
     "data": {
      "text/plain": [
       "'bbal6n'"
      ]
     },
     "execution_count": 20,
     "metadata": {},
     "output_type": "execute_result"
    }
   ],
   "source": [
    "tf.convert_to_tensor(test_path).numpy().decode('utf-8').split('\\\\')[-1].split('.')[0]"
   ]
  },
  {
   "cell_type": "code",
   "execution_count": 21,
   "id": "93b183f7",
   "metadata": {},
   "outputs": [],
   "source": [
    "frames, alignments = load_data(tf.convert_to_tensor(test_path))"
   ]
  },
  {
   "cell_type": "code",
   "execution_count": 22,
   "id": "c0fe2164",
   "metadata": {},
   "outputs": [
    {
     "name": "stdout",
     "output_type": "stream",
     "text": [
      "tf.Tensor([ 2  9 14 39  2 12 21  5 39  1 20 39 12 39 19  9 24 39 14 15 23], shape=(21,), dtype=int64)\n"
     ]
    }
   ],
   "source": [
    "print(alignments)"
   ]
  },
  {
   "cell_type": "code",
   "execution_count": 23,
   "id": "e23a9e7f",
   "metadata": {},
   "outputs": [
    {
     "name": "stdout",
     "output_type": "stream",
     "text": [
      "[ 2  9 14 39  2 12 21  5 39  1 20 39 12 39 19  9 24 39 14 15 23]\n"
     ]
    }
   ],
   "source": [
    "print(alignments.numpy())"
   ]
  },
  {
   "cell_type": "code",
   "execution_count": 24,
   "id": "2ecb339f",
   "metadata": {},
   "outputs": [
    {
     "data": {
      "text/plain": [
       "<tf.Tensor: shape=(21,), dtype=string, numpy=\n",
       "array([b'b', b'i', b'n', b' ', b'b', b'l', b'u', b'e', b' ', b'a', b't',\n",
       "       b' ', b'l', b' ', b's', b'i', b'x', b' ', b'n', b'o', b'w'],\n",
       "      dtype=object)>"
      ]
     },
     "execution_count": 24,
     "metadata": {},
     "output_type": "execute_result"
    }
   ],
   "source": [
    "num_to_char(alignments.numpy())"
   ]
  },
  {
   "cell_type": "code",
   "execution_count": null,
   "id": "4a468e94",
   "metadata": {},
   "outputs": [],
   "source": [
    "num_to_char(alignments.numpy()).numpy()"
   ]
  },
  {
   "cell_type": "code",
   "execution_count": 25,
   "id": "6ff595a5",
   "metadata": {},
   "outputs": [
    {
     "name": "stdout",
     "output_type": "stream",
     "text": [
      "<generator object <genexpr> at 0x0000025EADFE2500>\n"
     ]
    }
   ],
   "source": [
    "print(bytes.decode(x) for x in num_to_char(alignments.numpy()).numpy())"
   ]
  },
  {
   "cell_type": "code",
   "execution_count": 26,
   "id": "9bca7749",
   "metadata": {},
   "outputs": [
    {
     "data": {
      "text/plain": [
       "<tf.Tensor: shape=(), dtype=string, numpy=b'bin blue at l six now'>"
      ]
     },
     "execution_count": 26,
     "metadata": {},
     "output_type": "execute_result"
    }
   ],
   "source": [
    "tf.strings.reduce_join([bytes.decode(x) for x in num_to_char(alignments.numpy()).numpy()])"
   ]
  },
  {
   "cell_type": "code",
   "execution_count": 27,
   "id": "cbeaf221",
   "metadata": {
    "scrolled": true
   },
   "outputs": [
    {
     "data": {
      "text/plain": [
       "<matplotlib.image.AxesImage at 0x25eae036f50>"
      ]
     },
     "execution_count": 27,
     "metadata": {},
     "output_type": "execute_result"
    },
    {
     "data": {
      "image/png": "[encoded data removed]",
      "text/plain": [
       "<Figure size 640x480 with 1 Axes>"
      ]
     },
     "metadata": {},
     "output_type": "display_data"
    }
   ],
   "source": [
    "plt.imshow(frames[0])"
   ]
  },
  {
   "cell_type": "code",
   "execution_count": 28,
   "id": "6a3440c6",
   "metadata": {},
   "outputs": [],
   "source": [
    "def mappable_function(path:str) ->List[str]:\n",
    "    result = tf.py_function(load_data, [path], (tf.float32, tf.int64))\n",
    "    return result"
   ]
  },
  {
   "cell_type": "code",
   "execution_count": 29,
   "id": "48b24427",
   "metadata": {},
   "outputs": [],
   "source": [
    "from matplotlib import pyplot as plt"
   ]
  },
  {
   "cell_type": "code",
   "execution_count": 30,
   "id": "8846e722",
   "metadata": {},
   "outputs": [],
   "source": [
    "data = tf.data.Dataset.list_files('./data/s1/*.mpg')\n",
    "data = data.shuffle(500, reshuffle_each_iteration=False)\n",
    "data = data.map(mappable_function)\n",
    "data = data.padded_batch(2, padded_shapes=([75,None,None,None],[40]))\n",
    "data = data.prefetch(tf.data.AUTOTUNE)\n",
    "# Added for split \n",
    "train = data.take(450)\n",
    "test = data.skip(450)"
   ]
  },
  {
   "cell_type": "code",
   "execution_count": null,
   "id": "499bc3fd",
   "metadata": {},
   "outputs": [],
   "source": [
    "len(test)"
   ]
  },
  {
   "cell_type": "code",
   "execution_count": 31,
   "id": "a9c4f7fa",
   "metadata": {},
   "outputs": [],
   "source": [
    "frames, alignments = data.as_numpy_iterator().next()"
   ]
  },
  {
   "cell_type": "code",
   "execution_count": 32,
   "id": "61ab58c5",
   "metadata": {},
   "outputs": [
    {
     "data": {
      "text/plain": [
       "(2, 75, 46, 140, 1)"
      ]
     },
     "execution_count": 32,
     "metadata": {},
     "output_type": "execute_result"
    }
   ],
   "source": [
    "frames.shape"
   ]
  },
  {
   "cell_type": "code",
   "execution_count": null,
   "id": "49c8e11e",
   "metadata": {},
   "outputs": [],
   "source": [
    "len(frames)"
   ]
  },
  {
   "cell_type": "code",
   "execution_count": 33,
   "id": "94f571bf",
   "metadata": {},
   "outputs": [],
   "source": [
    "sample = data.as_numpy_iterator()"
   ]
  },
  {
   "cell_type": "code",
   "execution_count": null,
   "id": "33e2a698",
   "metadata": {},
   "outputs": [],
   "source": [
    "sample"
   ]
  },
  {
   "cell_type": "code",
   "execution_count": 34,
   "id": "e8109fbe",
   "metadata": {},
   "outputs": [
    {
     "data": {
      "text/plain": [
       "array([[[[[1.5451232 ],\n",
       "          [1.5064951 ],\n",
       "          [1.1974704 ],\n",
       "          ...,\n",
       "          [0.30902463],\n",
       "          [0.23176847],\n",
       "          [0.23176847]],\n",
       "\n",
       "         [[1.2360985 ],\n",
       "          [1.6223794 ],\n",
       "          [1.2747266 ],\n",
       "          ...,\n",
       "          [0.30902463],\n",
       "          [0.23176847],\n",
       "          [0.23176847]],\n",
       "\n",
       "         [[1.6223794 ],\n",
       "          [1.6223794 ],\n",
       "          [1.5064951 ],\n",
       "          ...,\n",
       "          [0.34765273],\n",
       "          [0.27039656],\n",
       "          [0.27039656]],\n",
       "\n",
       "         ...,\n",
       "\n",
       "         [[1.0429581 ],\n",
       "          [1.0429581 ],\n",
       "          [1.0429581 ],\n",
       "          ...,\n",
       "          [0.03862808],\n",
       "          [0.03862808],\n",
       "          [0.03862808]],\n",
       "\n",
       "         [[1.0429581 ],\n",
       "          [1.0429581 ],\n",
       "          [1.0429581 ],\n",
       "          ...,\n",
       "          [0.03862808],\n",
       "          [0.03862808],\n",
       "          [0.03862808]],\n",
       "\n",
       "         [[1.0429581 ],\n",
       "          [1.0429581 ],\n",
       "          [1.0429581 ],\n",
       "          ...,\n",
       "          [0.03862808],\n",
       "          [0.03862808],\n",
       "          [0.        ]]],\n",
       "\n",
       "\n",
       "        [[[1.4292389 ],\n",
       "          [1.5064951 ],\n",
       "          [1.3133547 ],\n",
       "          ...,\n",
       "          [0.3862808 ],\n",
       "          [0.30902463],\n",
       "          [0.30902463]],\n",
       "\n",
       "         [[1.3133547 ],\n",
       "          [1.5064951 ],\n",
       "          [1.2747266 ],\n",
       "          ...,\n",
       "          [0.3862808 ],\n",
       "          [0.30902463],\n",
       "          [0.30902463]],\n",
       "\n",
       "         [[1.6610074 ],\n",
       "          [1.6610074 ],\n",
       "          [1.467867  ],\n",
       "          ...,\n",
       "          [0.34765273],\n",
       "          [0.27039656],\n",
       "          [0.27039656]],\n",
       "\n",
       "         ...,\n",
       "\n",
       "         [[1.0815862 ],\n",
       "          [1.0815862 ],\n",
       "          [1.0815862 ],\n",
       "          ...,\n",
       "          [0.        ],\n",
       "          [0.        ],\n",
       "          [0.        ]],\n",
       "\n",
       "         [[1.0815862 ],\n",
       "          [1.0815862 ],\n",
       "          [1.0429581 ],\n",
       "          ...,\n",
       "          [0.        ],\n",
       "          [0.        ],\n",
       "          [9.811532  ]],\n",
       "\n",
       "         [[1.0429581 ],\n",
       "          [1.0429581 ],\n",
       "          [1.0429581 ],\n",
       "          ...,\n",
       "          [0.        ],\n",
       "          [0.        ],\n",
       "          [9.811532  ]]],\n",
       "\n",
       "\n",
       "        [[[1.5064951 ],\n",
       "          [1.5837513 ],\n",
       "          [1.4292389 ],\n",
       "          ...,\n",
       "          [0.34765273],\n",
       "          [0.27039656],\n",
       "          [0.27039656]],\n",
       "\n",
       "         [[1.3133547 ],\n",
       "          [1.4292389 ],\n",
       "          [1.3519828 ],\n",
       "          ...,\n",
       "          [0.34765273],\n",
       "          [0.27039656],\n",
       "          [0.27039656]],\n",
       "\n",
       "         [[1.5837513 ],\n",
       "          [1.5837513 ],\n",
       "          [1.467867  ],\n",
       "          ...,\n",
       "          [0.27039656],\n",
       "          [0.27039656],\n",
       "          [0.27039656]],\n",
       "\n",
       "         ...,\n",
       "\n",
       "         [[1.00433   ],\n",
       "          [1.00433   ],\n",
       "          [1.0429581 ],\n",
       "          ...,\n",
       "          [0.03862808],\n",
       "          [0.03862808],\n",
       "          [0.03862808]],\n",
       "\n",
       "         [[1.00433   ],\n",
       "          [1.00433   ],\n",
       "          [1.00433   ],\n",
       "          ...,\n",
       "          [0.03862808],\n",
       "          [0.03862808],\n",
       "          [0.        ]],\n",
       "\n",
       "         [[0.965702  ],\n",
       "          [0.965702  ],\n",
       "          [1.00433   ],\n",
       "          ...,\n",
       "          [0.03862808],\n",
       "          [0.03862808],\n",
       "          [0.        ]]],\n",
       "\n",
       "\n",
       "        ...,\n",
       "\n",
       "\n",
       "        [[[1.6610074 ],\n",
       "          [1.5064951 ],\n",
       "          [1.2747266 ],\n",
       "          ...,\n",
       "          [0.27039656],\n",
       "          [0.23176847],\n",
       "          [0.23176847]],\n",
       "\n",
       "         [[1.4292389 ],\n",
       "          [1.5064951 ],\n",
       "          [1.1974704 ],\n",
       "          ...,\n",
       "          [0.27039656],\n",
       "          [0.23176847],\n",
       "          [0.23176847]],\n",
       "\n",
       "         [[1.467867  ],\n",
       "          [1.467867  ],\n",
       "          [1.3906109 ],\n",
       "          ...,\n",
       "          [0.3862808 ],\n",
       "          [0.34765273],\n",
       "          [0.34765273]],\n",
       "\n",
       "         ...,\n",
       "\n",
       "         [[1.0429581 ],\n",
       "          [1.0429581 ],\n",
       "          [1.0429581 ],\n",
       "          ...,\n",
       "          [0.        ],\n",
       "          [0.        ],\n",
       "          [0.        ]],\n",
       "\n",
       "         [[1.0429581 ],\n",
       "          [1.0429581 ],\n",
       "          [1.0429581 ],\n",
       "          ...,\n",
       "          [0.        ],\n",
       "          [0.        ],\n",
       "          [9.811532  ]],\n",
       "\n",
       "         [[1.0429581 ],\n",
       "          [1.0429581 ],\n",
       "          [1.00433   ],\n",
       "          ...,\n",
       "          [0.        ],\n",
       "          [9.811532  ],\n",
       "          [9.811532  ]]],\n",
       "\n",
       "\n",
       "        [[[1.6223794 ],\n",
       "          [1.467867  ],\n",
       "          [1.2747266 ],\n",
       "          ...,\n",
       "          [0.27039656],\n",
       "          [0.27039656],\n",
       "          [0.27039656]],\n",
       "\n",
       "         [[1.467867  ],\n",
       "          [1.3906109 ],\n",
       "          [1.2747266 ],\n",
       "          ...,\n",
       "          [0.27039656],\n",
       "          [0.27039656],\n",
       "          [0.27039656]],\n",
       "\n",
       "         [[1.5451232 ],\n",
       "          [1.5451232 ],\n",
       "          [1.4292389 ],\n",
       "          ...,\n",
       "          [0.34765273],\n",
       "          [0.30902463],\n",
       "          [0.30902463]],\n",
       "\n",
       "         ...,\n",
       "\n",
       "         [[1.0815862 ],\n",
       "          [1.0815862 ],\n",
       "          [1.0815862 ],\n",
       "          ...,\n",
       "          [0.        ],\n",
       "          [0.        ],\n",
       "          [0.        ]],\n",
       "\n",
       "         [[1.0815862 ],\n",
       "          [1.0815862 ],\n",
       "          [1.0815862 ],\n",
       "          ...,\n",
       "          [0.        ],\n",
       "          [0.        ],\n",
       "          [9.811532  ]],\n",
       "\n",
       "         [[1.0815862 ],\n",
       "          [1.0815862 ],\n",
       "          [1.0429581 ],\n",
       "          ...,\n",
       "          [0.        ],\n",
       "          [9.811532  ],\n",
       "          [9.811532  ]]],\n",
       "\n",
       "\n",
       "        [[[1.5837513 ],\n",
       "          [1.5837513 ],\n",
       "          [1.2747266 ],\n",
       "          ...,\n",
       "          [0.3862808 ],\n",
       "          [0.30902463],\n",
       "          [0.30902463]],\n",
       "\n",
       "         [[1.5451232 ],\n",
       "          [1.3906109 ],\n",
       "          [1.2747266 ],\n",
       "          ...,\n",
       "          [0.3862808 ],\n",
       "          [0.30902463],\n",
       "          [0.30902463]],\n",
       "\n",
       "         [[1.5837513 ],\n",
       "          [1.5837513 ],\n",
       "          [1.5064951 ],\n",
       "          ...,\n",
       "          [0.34765273],\n",
       "          [0.30902463],\n",
       "          [0.30902463]],\n",
       "\n",
       "         ...,\n",
       "\n",
       "         [[1.0815862 ],\n",
       "          [1.0815862 ],\n",
       "          [1.0815862 ],\n",
       "          ...,\n",
       "          [0.        ],\n",
       "          [0.        ],\n",
       "          [0.        ]],\n",
       "\n",
       "         [[1.0815862 ],\n",
       "          [1.0815862 ],\n",
       "          [1.0815862 ],\n",
       "          ...,\n",
       "          [0.        ],\n",
       "          [0.        ],\n",
       "          [9.811532  ]],\n",
       "\n",
       "         [[1.0815862 ],\n",
       "          [1.0815862 ],\n",
       "          [1.0429581 ],\n",
       "          ...,\n",
       "          [0.        ],\n",
       "          [9.811532  ],\n",
       "          [9.811532  ]]]],\n",
       "\n",
       "\n",
       "\n",
       "       [[[[1.4689325 ],\n",
       "          [1.4689325 ],\n",
       "          [1.4689325 ],\n",
       "          ...,\n",
       "          [0.35827622],\n",
       "          [0.28662097],\n",
       "          [0.28662097]],\n",
       "\n",
       "         [[1.4689325 ],\n",
       "          [1.5405878 ],\n",
       "          [1.5405878 ],\n",
       "          ...,\n",
       "          [0.35827622],\n",
       "          [0.28662097],\n",
       "          [0.28662097]],\n",
       "\n",
       "         [[1.4689325 ],\n",
       "          [1.4689325 ],\n",
       "          [1.4331049 ],\n",
       "          ...,\n",
       "          [0.39410385],\n",
       "          [0.3224486 ],\n",
       "          [0.3224486 ]],\n",
       "\n",
       "         ...,\n",
       "\n",
       "         [[1.0031735 ],\n",
       "          [1.0031735 ],\n",
       "          [1.0031735 ],\n",
       "          ...,\n",
       "          [0.10748287],\n",
       "          [0.07165524],\n",
       "          [0.07165524]],\n",
       "\n",
       "         [[0.96734583],\n",
       "          [0.96734583],\n",
       "          [0.96734583],\n",
       "          ...,\n",
       "          [0.10748287],\n",
       "          [0.07165524],\n",
       "          [0.07165524]],\n",
       "\n",
       "         [[0.96734583],\n",
       "          [0.96734583],\n",
       "          [0.96734583],\n",
       "          ...,\n",
       "          [0.10748287],\n",
       "          [0.07165524],\n",
       "          [0.03582762]]],\n",
       "\n",
       "\n",
       "        [[[1.4331049 ],\n",
       "          [1.3972774 ],\n",
       "          [1.4689325 ],\n",
       "          ...,\n",
       "          [0.3224486 ],\n",
       "          [0.28662097],\n",
       "          [0.28662097]],\n",
       "\n",
       "         [[1.4331049 ],\n",
       "          [1.3972774 ],\n",
       "          [1.5047601 ],\n",
       "          ...,\n",
       "          [0.3224486 ],\n",
       "          [0.28662097],\n",
       "          [0.28662097]],\n",
       "\n",
       "         [[1.4689325 ],\n",
       "          [1.4689325 ],\n",
       "          [1.3972774 ],\n",
       "          ...,\n",
       "          [0.3224486 ],\n",
       "          [0.28662097],\n",
       "          [0.3224486 ]],\n",
       "\n",
       "         ...,\n",
       "\n",
       "         [[1.0031735 ],\n",
       "          [1.0031735 ],\n",
       "          [1.0031735 ],\n",
       "          ...,\n",
       "          [0.07165524],\n",
       "          [0.07165524],\n",
       "          [0.07165524]],\n",
       "\n",
       "         [[0.96734583],\n",
       "          [0.96734583],\n",
       "          [0.96734583],\n",
       "          ...,\n",
       "          [0.07165524],\n",
       "          [0.07165524],\n",
       "          [0.03582762]],\n",
       "\n",
       "         [[0.96734583],\n",
       "          [0.96734583],\n",
       "          [0.96734583],\n",
       "          ...,\n",
       "          [0.07165524],\n",
       "          [0.03582762],\n",
       "          [0.03582762]]],\n",
       "\n",
       "\n",
       "        [[[1.5764154 ],\n",
       "          [1.4689325 ],\n",
       "          [1.3972774 ],\n",
       "          ...,\n",
       "          [0.35827622],\n",
       "          [0.3224486 ],\n",
       "          [0.3224486 ]],\n",
       "\n",
       "         [[1.5405878 ],\n",
       "          [1.4689325 ],\n",
       "          [1.4331049 ],\n",
       "          ...,\n",
       "          [0.35827622],\n",
       "          [0.3224486 ],\n",
       "          [0.3224486 ]],\n",
       "\n",
       "         [[1.4689325 ],\n",
       "          [1.4689325 ],\n",
       "          [1.4331049 ],\n",
       "          ...,\n",
       "          [0.3224486 ],\n",
       "          [0.35827622],\n",
       "          [0.35827622]],\n",
       "\n",
       "         ...,\n",
       "\n",
       "         [[1.0031735 ],\n",
       "          [1.0031735 ],\n",
       "          [1.0031735 ],\n",
       "          ...,\n",
       "          [0.07165524],\n",
       "          [0.07165524],\n",
       "          [0.07165524]],\n",
       "\n",
       "         [[0.96734583],\n",
       "          [0.96734583],\n",
       "          [0.96734583],\n",
       "          ...,\n",
       "          [0.07165524],\n",
       "          [0.07165524],\n",
       "          [0.03582762]],\n",
       "\n",
       "         [[0.96734583],\n",
       "          [0.96734583],\n",
       "          [0.96734583],\n",
       "          ...,\n",
       "          [0.07165524],\n",
       "          [0.03582762],\n",
       "          [0.03582762]]],\n",
       "\n",
       "\n",
       "        ...,\n",
       "\n",
       "\n",
       "        [[[1.3256221 ],\n",
       "          [1.4689325 ],\n",
       "          [1.4331049 ],\n",
       "          ...,\n",
       "          [0.3224486 ],\n",
       "          [0.3224486 ],\n",
       "          [0.3224486 ]],\n",
       "\n",
       "         [[1.4331049 ],\n",
       "          [1.4331049 ],\n",
       "          [1.2539668 ],\n",
       "          ...,\n",
       "          [0.3224486 ],\n",
       "          [0.3224486 ],\n",
       "          [0.3224486 ]],\n",
       "\n",
       "         [[1.4331049 ],\n",
       "          [1.4331049 ],\n",
       "          [1.4331049 ],\n",
       "          ...,\n",
       "          [0.3224486 ],\n",
       "          [0.3224486 ],\n",
       "          [0.3224486 ]],\n",
       "\n",
       "         ...,\n",
       "\n",
       "         [[1.0031735 ],\n",
       "          [1.0031735 ],\n",
       "          [1.0031735 ],\n",
       "          ...,\n",
       "          [0.03582762],\n",
       "          [0.03582762],\n",
       "          [0.03582762]],\n",
       "\n",
       "         [[1.0031735 ],\n",
       "          [1.0031735 ],\n",
       "          [1.0031735 ],\n",
       "          ...,\n",
       "          [0.03582762],\n",
       "          [0.03582762],\n",
       "          [0.03582762]],\n",
       "\n",
       "         [[1.0031735 ],\n",
       "          [1.0031735 ],\n",
       "          [0.96734583],\n",
       "          ...,\n",
       "          [0.03582762],\n",
       "          [0.03582762],\n",
       "          [0.        ]]],\n",
       "\n",
       "\n",
       "        [[[1.4331049 ],\n",
       "          [1.4689325 ],\n",
       "          [1.3614497 ],\n",
       "          ...,\n",
       "          [0.3224486 ],\n",
       "          [0.3224486 ],\n",
       "          [0.3224486 ]],\n",
       "\n",
       "         [[1.4689325 ],\n",
       "          [1.4689325 ],\n",
       "          [1.2897944 ],\n",
       "          ...,\n",
       "          [0.3224486 ],\n",
       "          [0.3224486 ],\n",
       "          [0.3224486 ]],\n",
       "\n",
       "         [[1.5047601 ],\n",
       "          [1.5047601 ],\n",
       "          [1.4331049 ],\n",
       "          ...,\n",
       "          [0.3224486 ],\n",
       "          [0.3224486 ],\n",
       "          [0.3224486 ]],\n",
       "\n",
       "         ...,\n",
       "\n",
       "         [[1.0390011 ],\n",
       "          [1.0390011 ],\n",
       "          [1.0390011 ],\n",
       "          ...,\n",
       "          [0.07165524],\n",
       "          [0.07165524],\n",
       "          [0.07165524]],\n",
       "\n",
       "         [[1.0390011 ],\n",
       "          [1.0390011 ],\n",
       "          [1.0390011 ],\n",
       "          ...,\n",
       "          [0.07165524],\n",
       "          [0.07165524],\n",
       "          [0.07165524]],\n",
       "\n",
       "         [[1.0390011 ],\n",
       "          [1.0390011 ],\n",
       "          [1.0031735 ],\n",
       "          ...,\n",
       "          [0.07165524],\n",
       "          [0.07165524],\n",
       "          [0.03582762]]],\n",
       "\n",
       "\n",
       "        [[[1.4331049 ],\n",
       "          [1.5047601 ],\n",
       "          [1.4331049 ],\n",
       "          ...,\n",
       "          [0.3224486 ],\n",
       "          [0.3224486 ],\n",
       "          [0.3224486 ]],\n",
       "\n",
       "         [[1.4689325 ],\n",
       "          [1.4689325 ],\n",
       "          [1.3614497 ],\n",
       "          ...,\n",
       "          [0.3224486 ],\n",
       "          [0.3224486 ],\n",
       "          [0.3224486 ]],\n",
       "\n",
       "         [[1.5047601 ],\n",
       "          [1.5047601 ],\n",
       "          [1.4331049 ],\n",
       "          ...,\n",
       "          [0.3224486 ],\n",
       "          [0.3224486 ],\n",
       "          [0.3224486 ]],\n",
       "\n",
       "         ...,\n",
       "\n",
       "         [[1.0390011 ],\n",
       "          [1.0390011 ],\n",
       "          [1.0390011 ],\n",
       "          ...,\n",
       "          [0.07165524],\n",
       "          [0.03582762],\n",
       "          [0.03582762]],\n",
       "\n",
       "         [[1.0390011 ],\n",
       "          [1.0390011 ],\n",
       "          [1.0390011 ],\n",
       "          ...,\n",
       "          [0.03582762],\n",
       "          [0.03582762],\n",
       "          [0.03582762]],\n",
       "\n",
       "         [[1.0390011 ],\n",
       "          [1.0390011 ],\n",
       "          [1.0031735 ],\n",
       "          ...,\n",
       "          [0.03582762],\n",
       "          [0.03582762],\n",
       "          [0.03582762]]]]], dtype=float32)"
      ]
     },
     "execution_count": 34,
     "metadata": {},
     "output_type": "execute_result"
    }
   ],
   "source": [
    "val = sample.next();val[0] "
   ]
  },
  {
   "cell_type": "code",
   "execution_count": null,
   "id": "2f63d960",
   "metadata": {},
   "outputs": [],
   "source": [
    "val"
   ]
  },
  {
   "cell_type": "code",
   "execution_count": 35,
   "id": "1e673aea",
   "metadata": {},
   "outputs": [
    {
     "data": {
      "text/plain": [
       "<matplotlib.image.AxesImage at 0x25eae4d68d0>"
      ]
     },
     "execution_count": 35,
     "metadata": {},
     "output_type": "execute_result"
    },
    {
     "data": {
      "image/png": "[encoded data removed]",
      "text/plain": [
       "<Figure size 640x480 with 1 Axes>"
      ]
     },
     "metadata": {},
     "output_type": "display_data"
    }
   ],
   "source": [
    "# 0:videos, 0: 1st video out of the batch,  0: return the first frame in the video \n",
    "plt.imshow(val[0][0][35])"
   ]
  },
  {
   "cell_type": "code",
   "execution_count": 36,
   "id": "5b37dda6",
   "metadata": {},
   "outputs": [
    {
     "data": {
      "text/plain": [
       "<tf.Tensor: shape=(), dtype=string, numpy=b'set green at c five again'>"
      ]
     },
     "execution_count": 36,
     "metadata": {},
     "output_type": "execute_result"
    }
   ],
   "source": [
    "tf.strings.reduce_join([num_to_char(word) for word in val[1][0]])"
   ]
  },
  {
   "cell_type": "code",
   "execution_count": 37,
   "id": "15eadfab",
   "metadata": {},
   "outputs": [],
   "source": [
    "from tensorflow.keras.models import Sequential \n",
    "from tensorflow.keras.layers import Conv3D, LSTM, Dense, Dropout, Bidirectional, MaxPool3D, Activation, Reshape, SpatialDropout3D, BatchNormalization, TimeDistributed, Flatten\n",
    "from tensorflow.keras.optimizers import Adam\n",
    "from tensorflow.keras.callbacks import ModelCheckpoint, LearningRateScheduler"
   ]
  },
  {
   "cell_type": "code",
   "execution_count": 38,
   "id": "e6011f33",
   "metadata": {},
   "outputs": [
    {
     "data": {
      "text/plain": [
       "(75, 46, 140, 1)"
      ]
     },
     "execution_count": 38,
     "metadata": {},
     "output_type": "execute_result"
    }
   ],
   "source": [
    "data.as_numpy_iterator().next()[0][0].shape"
   ]
  },
  {
   "cell_type": "code",
   "execution_count": 39,
   "id": "749a4bd9",
   "metadata": {},
   "outputs": [],
   "source": [
    "model = Sequential()\n",
    "model.add(Conv3D(128, 3, input_shape=(75,46,140,1), padding='same'))\n",
    "model.add(Activation('relu'))\n",
    "model.add(MaxPool3D((1,2,2)))\n",
    "\n",
    "model.add(Conv3D(256, 3, padding='same'))\n",
    "model.add(Activation('relu'))\n",
    "model.add(MaxPool3D((1,2,2)))\n",
    "\n",
    "model.add(Conv3D(75, 3, padding='same'))\n",
    "model.add(Activation('relu'))\n",
    "model.add(MaxPool3D((1,2,2)))\n",
    "\n",
    "model.add(TimeDistributed(Flatten()))\n",
    "\n",
    "model.add(Bidirectional(LSTM(128, kernel_initializer='Orthogonal', return_sequences=True)))\n",
    "model.add(Dropout(.5))\n",
    "\n",
    "model.add(Bidirectional(LSTM(128, kernel_initializer='Orthogonal', return_sequences=True)))\n",
    "model.add(Dropout(.5))\n",
    "\n",
    "model.add(Dense(char_to_num.vocabulary_size()+1, kernel_initializer='he_normal', activation='softmax'))"
   ]
  },
  {
   "cell_type": "code",
   "execution_count": null,
   "id": "b66189a0",
   "metadata": {},
   "outputs": [],
   "source": [
    "model.summary()"
   ]
  },
  {
   "cell_type": "code",
   "execution_count": 40,
   "id": "f8ae2775",
   "metadata": {},
   "outputs": [
    {
     "name": "stdout",
     "output_type": "stream",
     "text": [
      "1/1 [==============================] - 11s 11s/step\n"
     ]
    }
   ],
   "source": [
    "yhat = model.predict(val[0])"
   ]
  },
  {
   "cell_type": "code",
   "execution_count": 41,
   "id": "4db848f1",
   "metadata": {
    "scrolled": true
   },
   "outputs": [
    {
     "data": {
      "text/plain": [
       "array([[[0.02228685, 0.02791287, 0.02855697, ..., 0.02635818,\n",
       "         0.023073  , 0.02239529],\n",
       "        [0.02271364, 0.02809326, 0.02946439, ..., 0.02504794,\n",
       "         0.0225344 , 0.02207678],\n",
       "        [0.02349819, 0.02772212, 0.0301844 , ..., 0.02377648,\n",
       "         0.02213694, 0.02180405],\n",
       "        ...,\n",
       "        [0.03179297, 0.02073341, 0.0234363 , ..., 0.01996481,\n",
       "         0.0245926 , 0.02560102],\n",
       "        [0.03147327, 0.02043833, 0.0227928 , ..., 0.02013279,\n",
       "         0.02473003, 0.02565688],\n",
       "        [0.03055574, 0.02013751, 0.02185508, ..., 0.0205235 ,\n",
       "         0.02525795, 0.02592219]],\n",
       "\n",
       "       [[0.02108879, 0.02779074, 0.02607093, ..., 0.02360755,\n",
       "         0.02184184, 0.02267896],\n",
       "        [0.02084767, 0.02808069, 0.02669043, ..., 0.0221877 ,\n",
       "         0.02117475, 0.02221192],\n",
       "        [0.02085136, 0.02785156, 0.02742086, ..., 0.02111686,\n",
       "         0.02069875, 0.0217794 ],\n",
       "        ...,\n",
       "        [0.02530074, 0.01983486, 0.0233339 , ..., 0.02091547,\n",
       "         0.02438662, 0.02400372],\n",
       "        [0.02577832, 0.0194591 , 0.02311846, ..., 0.02118721,\n",
       "         0.02437523, 0.02414898],\n",
       "        [0.02596612, 0.01891473, 0.02271819, ..., 0.02183656,\n",
       "         0.02464057, 0.02452782]]], dtype=float32)"
      ]
     },
     "execution_count": 41,
     "metadata": {},
     "output_type": "execute_result"
    }
   ],
   "source": [
    "yhat"
   ]
  },
  {
   "cell_type": "code",
   "execution_count": 42,
   "id": "31af1d7d",
   "metadata": {},
   "outputs": [
    {
     "data": {
      "text/plain": [
       "<tf.Tensor: shape=(), dtype=string, numpy=b'tbbbrrrruuuuuuuuuurrrrrrrrrrrrrrrruuuuurrrffffffuuuuuuuuuuuuuuuuuuuuuuuuuuu'>"
      ]
     },
     "execution_count": 42,
     "metadata": {},
     "output_type": "execute_result"
    }
   ],
   "source": [
    "tf.strings.reduce_join([num_to_char(x) for x in tf.argmax(yhat[0],axis=1)])\n"
   ]
  },
  {
   "cell_type": "code",
   "execution_count": 43,
   "id": "d9143fce",
   "metadata": {},
   "outputs": [
    {
     "data": {
      "text/plain": [
       "<tf.Tensor: shape=(), dtype=string, numpy=b'tbbbrrrruuuuuuuuuurrrrrrrrrrrrrrrruuuuurrrffffffuuuuuuuuuuuuuuuuuuuuuuuuuuu'>"
      ]
     },
     "execution_count": 43,
     "metadata": {},
     "output_type": "execute_result"
    }
   ],
   "source": [
    "tf.strings.reduce_join([num_to_char(tf.argmax(x)) for x in yhat[0]])\n"
   ]
  },
  {
   "cell_type": "code",
   "execution_count": 44,
   "id": "67d448e4",
   "metadata": {},
   "outputs": [
    {
     "data": {
      "text/plain": [
       "(None, 75, 46, 140, 1)"
      ]
     },
     "execution_count": 44,
     "metadata": {},
     "output_type": "execute_result"
    }
   ],
   "source": [
    "model.input_shape"
   ]
  },
  {
   "cell_type": "code",
   "execution_count": 45,
   "id": "52b56d58",
   "metadata": {},
   "outputs": [
    {
     "data": {
      "text/plain": [
       "(None, 75, 41)"
      ]
     },
     "execution_count": 45,
     "metadata": {},
     "output_type": "execute_result"
    }
   ],
   "source": [
    "model.output_shape"
   ]
  },
  {
   "cell_type": "code",
   "execution_count": 46,
   "id": "38fd933c",
   "metadata": {},
   "outputs": [],
   "source": [
    "def scheduler(epoch, lr):\n",
    "    if epoch < 30:\n",
    "        return lr\n",
    "    else:\n",
    "        return lr * tf.math.exp(-0.1)"
   ]
  },
  {
   "cell_type": "code",
   "execution_count": 47,
   "id": "88129b3b",
   "metadata": {},
   "outputs": [],
   "source": [
    "def CTCLoss(y_true, y_pred):\n",
    "    batch_len = tf.cast(tf.shape(y_true)[0], dtype=\"int64\")\n",
    "    input_length = tf.cast(tf.shape(y_pred)[1], dtype=\"int64\")\n",
    "    label_length = tf.cast(tf.shape(y_true)[1], dtype=\"int64\")\n",
    "\n",
    "    input_length = input_length * tf.ones(shape=(batch_len, 1), dtype=\"int64\")\n",
    "    label_length = label_length * tf.ones(shape=(batch_len, 1), dtype=\"int64\")\n",
    "\n",
    "    loss = tf.keras.backend.ctc_batch_cost(y_true, y_pred, input_length, label_length)\n",
    "    return loss"
   ]
  },
  {
   "cell_type": "code",
   "execution_count": 48,
   "id": "c282aeb6",
   "metadata": {},
   "outputs": [],
   "source": [
    "class ProduceExample(tf.keras.callbacks.Callback): \n",
    "    def __init__(self, dataset) -> None: \n",
    "        self.dataset = dataset.as_numpy_iterator()\n",
    "    \n",
    "    def on_epoch_end(self, epoch, logs=None) -> None:\n",
    "        data = self.dataset.next()\n",
    "        yhat = self.model.predict(data[0])\n",
    "        decoded = tf.keras.backend.ctc_decode(yhat, [75,75], greedy=False)[0][0].numpy()\n",
    "        for x in range(len(yhat)):           \n",
    "            print('Original:', tf.strings.reduce_join(num_to_char(data[1][x])).numpy().decode('utf-8'))\n",
    "            print('Prediction:', tf.strings.reduce_join(num_to_char(decoded[x])).numpy().decode('utf-8'))\n",
    "            print('~'*100)"
   ]
  },
  {
   "cell_type": "code",
   "execution_count": 49,
   "id": "e9246d0c",
   "metadata": {},
   "outputs": [],
   "source": [
    "model.compile(optimizer=Adam(learning_rate=0.0001), loss=CTCLoss)\n"
   ]
  },
  {
   "cell_type": "code",
   "execution_count": 50,
   "id": "393cab32",
   "metadata": {},
   "outputs": [],
   "source": [
    "checkpoint_callback = ModelCheckpoint(os.path.join('models','checkpoint'), monitor='loss', save_weights_only=True) \n"
   ]
  },
  {
   "cell_type": "code",
   "execution_count": 51,
   "id": "a0537a72",
   "metadata": {},
   "outputs": [],
   "source": [
    "schedule_callback = LearningRateScheduler(scheduler)\n"
   ]
  },
  {
   "cell_type": "code",
   "execution_count": 52,
   "id": "66a008b3",
   "metadata": {},
   "outputs": [],
   "source": [
    "example_callback = ProduceExample(test)\n"
   ]
  },
  {
   "cell_type": "code",
   "execution_count": null,
   "id": "cd82c9b0",
   "metadata": {},
   "outputs": [
    {
     "name": "stdout",
     "output_type": "stream",
     "text": [
      "Epoch 1/100\n",
      "217/450 [=============>................] - ETA: 7:47:15 - loss: 94.6072"
     ]
    }
   ],
   "source": [
    "model.fit(train, validation_data=test, epochs=100, callbacks=[checkpoint_callback, schedule_callback, example_callback])\n"
   ]
  },
  {
   "cell_type": "code",
   "execution_count": null,
   "id": "0906341b",
   "metadata": {},
   "outputs": [],
   "source": []
  }
 ],
 "metadata": {
  "kernelspec": {
   "display_name": "Python 3 (ipykernel)",
   "language": "python",
   "name": "python3"
  },
  "language_info": {
   "codemirror_mode": {
    "name": "ipython",
    "version": 3
   },
   "file_extension": ".py",
   "mimetype": "text/x-python",
   "name": "python",
   "nbconvert_exporter": "python",
   "pygments_lexer": "ipython3",
   "version": "3.11.3"
  }
 },
 "nbformat": 4,
 "nbformat_minor": 5
}
